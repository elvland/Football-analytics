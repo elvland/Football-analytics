{
 "cells": [
  {
   "cell_type": "code",
   "execution_count": 1,
   "metadata": {},
   "outputs": [
    {
     "name": "stdout",
     "output_type": "stream",
     "text": [
      "Requirement already satisfied: roboflow in c:\\users\\ollee\\anaconda3\\envs\\datascience\\lib\\site-packages (1.1.26)\n",
      "Requirement already satisfied: certifi==2023.7.22 in c:\\users\\ollee\\anaconda3\\envs\\datascience\\lib\\site-packages (from roboflow) (2023.7.22)\n",
      "Requirement already satisfied: chardet==4.0.0 in c:\\users\\ollee\\anaconda3\\envs\\datascience\\lib\\site-packages (from roboflow) (4.0.0)\n",
      "Requirement already satisfied: cycler==0.10.0 in c:\\users\\ollee\\anaconda3\\envs\\datascience\\lib\\site-packages (from roboflow) (0.10.0)\n",
      "Requirement already satisfied: idna==2.10 in c:\\users\\ollee\\anaconda3\\envs\\datascience\\lib\\site-packages (from roboflow) (2.10)\n",
      "Requirement already satisfied: kiwisolver>=1.3.1 in c:\\users\\ollee\\anaconda3\\envs\\datascience\\lib\\site-packages (from roboflow) (1.4.4)\n",
      "Requirement already satisfied: matplotlib in c:\\users\\ollee\\anaconda3\\envs\\datascience\\lib\\site-packages (from roboflow) (3.7.3)\n",
      "Requirement already satisfied: numpy>=1.18.5 in c:\\users\\ollee\\anaconda3\\envs\\datascience\\lib\\site-packages (from roboflow) (1.26.4)\n",
      "Requirement already satisfied: opencv-python-headless==4.8.0.74 in c:\\users\\ollee\\anaconda3\\envs\\datascience\\lib\\site-packages (from roboflow) (4.8.0.74)\n",
      "Requirement already satisfied: Pillow>=7.1.2 in c:\\users\\ollee\\anaconda3\\envs\\datascience\\lib\\site-packages (from roboflow) (10.2.0)\n",
      "Requirement already satisfied: python-dateutil in c:\\users\\ollee\\anaconda3\\envs\\datascience\\lib\\site-packages (from roboflow) (2.8.2)\n",
      "Requirement already satisfied: python-dotenv in c:\\users\\ollee\\anaconda3\\envs\\datascience\\lib\\site-packages (from roboflow) (1.0.1)\n",
      "Requirement already satisfied: requests in c:\\users\\ollee\\anaconda3\\envs\\datascience\\lib\\site-packages (from roboflow) (2.31.0)\n",
      "Requirement already satisfied: six in c:\\users\\ollee\\anaconda3\\envs\\datascience\\lib\\site-packages (from roboflow) (1.16.0)\n",
      "Requirement already satisfied: urllib3>=1.26.6 in c:\\users\\ollee\\anaconda3\\envs\\datascience\\lib\\site-packages (from roboflow) (2.1.0)\n",
      "Requirement already satisfied: tqdm>=4.41.0 in c:\\users\\ollee\\anaconda3\\envs\\datascience\\lib\\site-packages (from roboflow) (4.65.0)\n",
      "Requirement already satisfied: PyYAML>=5.3.1 in c:\\users\\ollee\\anaconda3\\envs\\datascience\\lib\\site-packages (from roboflow) (6.0.1)\n",
      "Requirement already satisfied: requests-toolbelt in c:\\users\\ollee\\anaconda3\\envs\\datascience\\lib\\site-packages (from roboflow) (1.0.0)\n",
      "Requirement already satisfied: python-magic in c:\\users\\ollee\\anaconda3\\envs\\datascience\\lib\\site-packages (from roboflow) (0.4.27)\n",
      "Requirement already satisfied: colorama in c:\\users\\ollee\\anaconda3\\envs\\datascience\\lib\\site-packages (from tqdm>=4.41.0->roboflow) (0.4.6)\n",
      "Requirement already satisfied: contourpy>=1.0.1 in c:\\users\\ollee\\anaconda3\\envs\\datascience\\lib\\site-packages (from matplotlib->roboflow) (1.2.0)\n",
      "Requirement already satisfied: fonttools>=4.22.0 in c:\\users\\ollee\\anaconda3\\envs\\datascience\\lib\\site-packages (from matplotlib->roboflow) (4.25.0)\n",
      "Requirement already satisfied: packaging>=20.0 in c:\\users\\ollee\\anaconda3\\envs\\datascience\\lib\\site-packages (from matplotlib->roboflow) (23.2)\n",
      "Requirement already satisfied: pyparsing>=2.3.1 in c:\\users\\ollee\\anaconda3\\envs\\datascience\\lib\\site-packages (from matplotlib->roboflow) (3.0.9)\n",
      "Requirement already satisfied: charset-normalizer<4,>=2 in c:\\users\\ollee\\anaconda3\\envs\\datascience\\lib\\site-packages (from requests->roboflow) (2.0.4)\n"
     ]
    }
   ],
   "source": [
    "!pip install roboflow\n"
   ]
  },
  {
   "cell_type": "markdown",
   "metadata": {},
   "source": [
    "# Get dataset"
   ]
  },
  {
   "cell_type": "code",
   "execution_count": 2,
   "metadata": {},
   "outputs": [
    {
     "name": "stdout",
     "output_type": "stream",
     "text": [
      "loading Roboflow workspace...\n",
      "loading Roboflow project...\n"
     ]
    },
    {
     "name": "stderr",
     "output_type": "stream",
     "text": [
      "Downloading Dataset Version Zip in football-players-detection-1 to yolov5pytorch:: 100%|██████████| 148663/148663 [00:40<00:00, 3637.81it/s]"
     ]
    },
    {
     "name": "stdout",
     "output_type": "stream",
     "text": [
      "\n"
     ]
    },
    {
     "name": "stderr",
     "output_type": "stream",
     "text": [
      "\n",
      "Extracting Dataset Version Zip to football-players-detection-1 in yolov5pytorch:: 100%|██████████| 1338/1338 [00:02<00:00, 512.97it/s]\n"
     ]
    }
   ],
   "source": [
    "\n",
    "from roboflow import Roboflow\n",
    "rf = Roboflow(api_key=\"5mmJdbg4SQJwlwYLarnZ\")\n",
    "project = rf.workspace(\"roboflow-jvuqo\").project(\"football-players-detection-3zvbc\")\n",
    "version = project.version(1)\n",
    "dataset = version.download(\"yolov5\")\n"
   ]
  },
  {
   "cell_type": "code",
   "execution_count": 3,
   "metadata": {},
   "outputs": [
    {
     "data": {
      "text/plain": [
       "'c:\\\\Users\\\\ollee\\\\Tutorial\\\\ComputerVisionProjects\\\\football_CV\\\\Training\\\\football-players-detection-1'"
      ]
     },
     "execution_count": 3,
     "metadata": {},
     "output_type": "execute_result"
    }
   ],
   "source": [
    "dataset.location"
   ]
  },
  {
   "cell_type": "code",
   "execution_count": 4,
   "metadata": {},
   "outputs": [
    {
     "name": "stdout",
     "output_type": "stream",
     "text": [
      "PRO TIP 💡 Replace 'model=yolov5m.pt' with new 'model=yolov5mu.pt'.\n",
      "YOLOv5 'u' models are trained with https://github.com/ultralytics/ultralytics and feature improved performance vs standard YOLOv5 models trained with https://github.com/ultralytics/yolov5.\n",
      "\n",
      "Downloading https://github.com/ultralytics/assets/releases/download/v8.1.0/yolov5mu.pt to 'yolov5mu.pt'...\n",
      "New https://pypi.org/project/ultralytics/8.2.2 available 😃 Update with 'pip install -U ultralytics'\n",
      "Ultralytics YOLOv8.1.36 🚀 Python-3.11.8 torch-2.2.2+cpu CPU (AMD Ryzen 5 4500U with Radeon Graphics)\n",
      "\u001b[34m\u001b[1mengine\\trainer: \u001b[0mtask=detect, mode=train, model=yolov5m.pt, data=(dataset.location)/data.yaml, epochs=100, time=None, patience=100, batch=16, imgsz=640, save=True, save_period=-1, cache=False, device=None, workers=8, project=None, name=train, exist_ok=False, pretrained=True, optimizer=auto, verbose=True, seed=0, deterministic=True, single_cls=False, rect=False, cos_lr=False, close_mosaic=10, resume=False, amp=True, fraction=1.0, profile=False, freeze=None, multi_scale=False, overlap_mask=True, mask_ratio=4, dropout=0.0, val=True, split=val, save_json=False, save_hybrid=False, conf=None, iou=0.7, max_det=300, half=False, dnn=False, plots=True, source=None, vid_stride=1, stream_buffer=False, visualize=False, augment=False, agnostic_nms=False, classes=None, retina_masks=False, embed=None, show=False, save_frames=False, save_txt=False, save_conf=False, save_crop=False, show_labels=True, show_conf=True, show_boxes=True, line_width=None, format=torchscript, keras=False, optimize=False, int8=False, dynamic=False, simplify=False, opset=None, workspace=4, nms=False, lr0=0.01, lrf=0.01, momentum=0.937, weight_decay=0.0005, warmup_epochs=3.0, warmup_momentum=0.8, warmup_bias_lr=0.1, box=7.5, cls=0.5, dfl=1.5, pose=12.0, kobj=1.0, label_smoothing=0.0, nbs=64, hsv_h=0.015, hsv_s=0.7, hsv_v=0.4, degrees=0.0, translate=0.1, scale=0.5, shear=0.0, perspective=0.0, flipud=0.0, fliplr=0.5, bgr=0.0, mosaic=1.0, mixup=0.0, copy_paste=0.0, auto_augment=randaugment, erasing=0.4, crop_fraction=1.0, cfg=None, tracker=botsort.yaml, save_dir=runs\\detect\\train\n"
     ]
    },
    {
     "name": "stderr",
     "output_type": "stream",
     "text": [
      "\n",
      "  0%|          | 0.00/48.2M [00:00<?, ?B/s]\n",
      "  0%|          | 48.0k/48.2M [00:00<01:42, 491kB/s]\n",
      "  0%|          | 120k/48.2M [00:00<01:24, 594kB/s] \n",
      "  0%|          | 192k/48.2M [00:00<01:20, 626kB/s]\n",
      "  1%|          | 256k/48.2M [00:01<06:18, 133kB/s]\n",
      "  1%|          | 352k/48.2M [00:01<04:06, 203kB/s]\n",
      "  1%|          | 400k/48.2M [00:01<03:51, 216kB/s]\n",
      "  1%|          | 448k/48.2M [00:02<06:31, 128kB/s]\n",
      "  1%|          | 592k/48.2M [00:02<03:24, 244kB/s]\n",
      "  1%|▏         | 656k/48.2M [00:02<02:58, 280kB/s]\n",
      "  2%|▏         | 784k/48.2M [00:03<02:06, 394kB/s]\n",
      "  2%|▏         | 856k/48.2M [00:03<01:53, 436kB/s]\n",
      "  2%|▏         | 928k/48.2M [00:03<01:59, 414kB/s]\n",
      "  2%|▏         | 992k/48.2M [00:03<01:49, 451kB/s]\n",
      "  2%|▏         | 1.08M/48.2M [00:03<01:27, 563kB/s]\n",
      "  2%|▏         | 1.20M/48.2M [00:03<01:12, 678kB/s]\n",
      "  3%|▎         | 1.33M/48.2M [00:03<01:02, 787kB/s]\n",
      "  3%|▎         | 1.53M/48.2M [00:03<00:47, 1.03MB/s]\n",
      "  4%|▎         | 1.77M/48.2M [00:04<00:37, 1.30MB/s]\n",
      "  4%|▍         | 2.00M/48.2M [00:04<00:32, 1.50MB/s]\n",
      "  5%|▍         | 2.23M/48.2M [00:04<00:29, 1.63MB/s]\n",
      "  5%|▌         | 2.48M/48.2M [00:04<00:27, 1.76MB/s]\n",
      "  6%|▌         | 2.75M/48.2M [00:04<00:25, 1.89MB/s]\n",
      "  6%|▋         | 3.03M/48.2M [00:04<00:23, 2.03MB/s]\n",
      "  7%|▋         | 3.23M/48.2M [00:04<00:25, 1.86MB/s]\n",
      "  7%|▋         | 3.42M/48.2M [00:04<00:25, 1.83MB/s]\n",
      "  7%|▋         | 3.60M/48.2M [00:05<00:26, 1.74MB/s]\n",
      "  8%|▊         | 3.81M/48.2M [00:05<00:26, 1.74MB/s]\n",
      "  8%|▊         | 4.03M/48.2M [00:05<00:26, 1.74MB/s]\n",
      "  9%|▉         | 4.27M/48.2M [00:05<00:25, 1.81MB/s]\n",
      "  9%|▉         | 4.48M/48.2M [00:05<00:25, 1.82MB/s]\n",
      " 10%|▉         | 4.70M/48.2M [00:05<00:25, 1.80MB/s]\n",
      " 10%|█         | 4.91M/48.2M [00:05<00:25, 1.78MB/s]\n",
      " 11%|█         | 5.12M/48.2M [00:05<00:25, 1.79MB/s]\n",
      " 11%|█         | 5.33M/48.2M [00:06<00:25, 1.76MB/s]\n",
      " 12%|█▏        | 5.56M/48.2M [00:06<00:25, 1.78MB/s]\n",
      " 12%|█▏        | 5.73M/48.2M [00:06<00:26, 1.70MB/s]\n",
      " 12%|█▏        | 5.90M/48.2M [00:07<01:24, 522kB/s] \n",
      " 12%|█▏        | 6.02M/48.2M [00:07<01:38, 447kB/s]\n",
      " 13%|█▎        | 6.16M/48.2M [00:07<01:23, 525kB/s]\n",
      " 13%|█▎        | 6.31M/48.2M [00:08<01:09, 636kB/s]\n",
      " 13%|█▎        | 6.44M/48.2M [00:08<01:08, 643kB/s]\n",
      " 14%|█▎        | 6.55M/48.2M [00:08<01:02, 704kB/s]\n",
      " 14%|█▍        | 6.75M/48.2M [00:08<00:48, 903kB/s]\n",
      " 14%|█▍        | 6.94M/48.2M [00:08<00:40, 1.06MB/s]\n",
      " 15%|█▍        | 7.17M/48.2M [00:08<00:33, 1.28MB/s]\n",
      " 15%|█▌        | 7.42M/48.2M [00:08<00:28, 1.49MB/s]\n",
      " 16%|█▌        | 7.69M/48.2M [00:08<00:25, 1.69MB/s]\n",
      " 17%|█▋        | 8.00M/48.2M [00:09<00:21, 1.94MB/s]\n",
      " 17%|█▋        | 8.33M/48.2M [00:09<00:19, 2.16MB/s]\n",
      " 18%|█▊        | 8.62M/48.2M [00:09<00:18, 2.21MB/s]\n",
      " 18%|█▊        | 8.84M/48.2M [00:09<00:20, 2.06MB/s]\n",
      " 19%|█▉        | 9.06M/48.2M [00:09<00:19, 2.08MB/s]\n",
      " 20%|█▉        | 9.44M/48.2M [00:09<00:17, 2.36MB/s]\n",
      " 20%|██        | 9.70M/48.2M [00:09<00:17, 2.35MB/s]\n",
      " 21%|██        | 10.1M/48.2M [00:09<00:15, 2.60MB/s]\n",
      " 21%|██▏       | 10.3M/48.2M [00:10<00:21, 1.88MB/s]\n",
      " 22%|██▏       | 10.8M/48.2M [00:10<00:17, 2.27MB/s]\n",
      " 23%|██▎       | 11.1M/48.2M [00:10<00:16, 2.37MB/s]\n",
      " 24%|██▎       | 11.3M/48.2M [00:10<00:16, 2.35MB/s]\n",
      " 24%|██▍       | 11.6M/48.2M [00:10<00:21, 1.75MB/s]\n",
      " 25%|██▍       | 12.0M/48.2M [00:10<00:17, 2.23MB/s]\n",
      " 26%|██▌       | 12.4M/48.2M [00:11<00:15, 2.36MB/s]\n",
      " 26%|██▋       | 12.7M/48.2M [00:11<00:15, 2.40MB/s]\n",
      " 27%|██▋       | 13.0M/48.2M [00:11<00:15, 2.41MB/s]\n",
      " 28%|██▊       | 13.3M/48.2M [00:11<00:14, 2.47MB/s]\n",
      " 28%|██▊       | 13.6M/48.2M [00:11<00:14, 2.51MB/s]\n",
      " 29%|██▉       | 13.9M/48.2M [00:11<00:14, 2.54MB/s]\n",
      " 30%|██▉       | 14.2M/48.2M [00:11<00:13, 2.56MB/s]\n",
      " 30%|███       | 14.5M/48.2M [00:12<00:16, 2.11MB/s]\n",
      " 30%|███       | 14.7M/48.2M [00:12<00:18, 1.94MB/s]\n",
      " 31%|███       | 14.9M/48.2M [00:12<00:20, 1.73MB/s]\n",
      " 31%|███▏      | 15.1M/48.2M [00:12<00:18, 1.84MB/s]\n",
      " 32%|███▏      | 15.4M/48.2M [00:12<00:17, 1.94MB/s]\n",
      " 32%|███▏      | 15.6M/48.2M [00:12<00:17, 1.91MB/s]\n",
      " 33%|███▎      | 15.8M/48.2M [00:12<00:18, 1.80MB/s]\n",
      " 33%|███▎      | 16.0M/48.2M [00:12<00:19, 1.74MB/s]\n",
      " 34%|███▎      | 16.2M/48.2M [00:13<00:19, 1.76MB/s]\n",
      " 34%|███▍      | 16.5M/48.2M [00:13<00:21, 1.53MB/s]\n",
      " 34%|███▍      | 16.6M/48.2M [00:14<01:03, 518kB/s] \n",
      " 35%|███▍      | 16.7M/48.2M [00:14<01:03, 516kB/s]\n",
      " 35%|███▌      | 16.9M/48.2M [00:14<00:50, 645kB/s]\n",
      " 36%|███▌      | 17.1M/48.2M [00:14<00:38, 847kB/s]\n",
      " 36%|███▌      | 17.4M/48.2M [00:14<00:30, 1.08MB/s]\n",
      " 37%|███▋      | 17.6M/48.2M [00:15<00:24, 1.29MB/s]\n",
      " 37%|███▋      | 17.8M/48.2M [00:15<00:25, 1.25MB/s]\n",
      " 37%|███▋      | 18.0M/48.2M [00:15<00:22, 1.39MB/s]\n",
      " 38%|███▊      | 18.2M/48.2M [00:15<00:21, 1.43MB/s]\n",
      " 38%|███▊      | 18.5M/48.2M [00:15<00:18, 1.71MB/s]\n",
      " 39%|███▉      | 18.7M/48.2M [00:15<00:16, 1.83MB/s]\n",
      " 39%|███▉      | 19.0M/48.2M [00:15<00:15, 1.94MB/s]\n",
      " 40%|████      | 19.3M/48.2M [00:15<00:14, 2.07MB/s]\n",
      " 41%|████      | 19.5M/48.2M [00:16<00:14, 2.11MB/s]\n",
      " 41%|████      | 19.8M/48.2M [00:16<00:14, 2.08MB/s]\n",
      " 42%|████▏     | 20.1M/48.2M [00:16<00:13, 2.16MB/s]\n",
      " 42%|████▏     | 20.3M/48.2M [00:16<00:13, 2.20MB/s]\n",
      " 43%|████▎     | 20.6M/48.2M [00:16<00:13, 2.22MB/s]\n",
      " 43%|████▎     | 20.9M/48.2M [00:16<00:12, 2.35MB/s]\n",
      " 44%|████▍     | 21.2M/48.2M [00:16<00:11, 2.40MB/s]\n",
      " 45%|████▍     | 21.5M/48.2M [00:16<00:11, 2.34MB/s]\n",
      " 45%|████▌     | 21.8M/48.2M [00:17<00:11, 2.36MB/s]\n",
      " 46%|████▌     | 22.1M/48.2M [00:17<00:11, 2.40MB/s]\n",
      " 46%|████▋     | 22.4M/48.2M [00:17<00:11, 2.44MB/s]\n",
      " 47%|████▋     | 22.7M/48.2M [00:17<00:11, 2.41MB/s]\n",
      " 48%|████▊     | 23.0M/48.2M [00:17<00:10, 2.42MB/s]\n",
      " 48%|████▊     | 23.2M/48.2M [00:17<00:11, 2.27MB/s]\n",
      " 49%|████▉     | 23.5M/48.2M [00:17<00:11, 2.32MB/s]\n",
      " 49%|████▉     | 23.7M/48.2M [00:17<00:11, 2.21MB/s]\n",
      " 50%|████▉     | 24.0M/48.2M [00:18<00:11, 2.30MB/s]\n",
      " 50%|█████     | 24.3M/48.2M [00:18<00:10, 2.33MB/s]\n",
      " 51%|█████     | 24.6M/48.2M [00:19<00:38, 646kB/s] \n",
      " 51%|█████▏    | 24.7M/48.2M [00:20<00:56, 437kB/s]\n",
      " 52%|█████▏    | 24.8M/48.2M [00:20<00:49, 492kB/s]\n",
      " 52%|█████▏    | 25.0M/48.2M [00:20<00:40, 598kB/s]\n",
      " 52%|█████▏    | 25.2M/48.2M [00:20<00:31, 774kB/s]\n",
      " 53%|█████▎    | 25.4M/48.2M [00:20<00:28, 840kB/s]\n",
      " 53%|█████▎    | 25.5M/48.2M [00:20<00:25, 938kB/s]\n",
      " 53%|█████▎    | 25.8M/48.2M [00:20<00:20, 1.16MB/s]\n",
      " 54%|█████▍    | 26.1M/48.2M [00:21<00:16, 1.43MB/s]\n",
      " 55%|█████▍    | 26.4M/48.2M [00:21<00:13, 1.69MB/s]\n",
      " 55%|█████▌    | 26.7M/48.2M [00:21<00:10, 2.05MB/s]\n",
      " 56%|█████▌    | 27.1M/48.2M [00:21<00:09, 2.38MB/s]\n",
      " 57%|█████▋    | 27.4M/48.2M [00:21<00:09, 2.19MB/s]\n",
      " 57%|█████▋    | 27.6M/48.2M [00:21<00:10, 2.16MB/s]\n",
      " 58%|█████▊    | 27.9M/48.2M [00:21<00:10, 2.10MB/s]\n",
      " 59%|█████▊    | 28.3M/48.2M [00:22<00:08, 2.37MB/s]\n",
      " 59%|█████▉    | 28.6M/48.2M [00:22<00:08, 2.43MB/s]\n",
      " 60%|██████    | 29.0M/48.2M [00:22<00:07, 2.69MB/s]\n",
      " 61%|██████    | 29.4M/48.2M [00:22<00:07, 2.75MB/s]\n",
      " 62%|██████▏   | 29.8M/48.2M [00:22<00:06, 3.10MB/s]\n",
      " 63%|██████▎   | 30.3M/48.2M [00:22<00:05, 3.45MB/s]\n",
      " 64%|██████▎   | 30.7M/48.2M [00:23<00:08, 2.22MB/s]\n",
      " 65%|██████▍   | 31.2M/48.2M [00:23<00:06, 2.65MB/s]\n",
      " 66%|██████▌   | 31.6M/48.2M [00:23<00:05, 2.91MB/s]\n",
      " 66%|██████▋   | 32.0M/48.2M [00:23<00:05, 3.00MB/s]\n",
      " 67%|██████▋   | 32.3M/48.2M [00:23<00:06, 2.42MB/s]\n",
      " 68%|██████▊   | 32.6M/48.2M [00:23<00:06, 2.45MB/s]\n",
      " 68%|██████▊   | 32.9M/48.2M [00:23<00:06, 2.56MB/s]\n",
      " 69%|██████▉   | 33.4M/48.2M [00:23<00:04, 3.11MB/s]\n",
      " 70%|███████   | 34.0M/48.2M [00:24<00:04, 3.35MB/s]\n",
      " 71%|███████   | 34.3M/48.2M [00:24<00:05, 2.82MB/s]\n",
      " 72%|███████▏  | 34.7M/48.2M [00:24<00:04, 3.01MB/s]\n",
      " 73%|███████▎  | 35.2M/48.2M [00:24<00:03, 3.47MB/s]\n",
      " 74%|███████▍  | 35.8M/48.2M [00:24<00:03, 3.72MB/s]\n",
      " 75%|███████▌  | 36.4M/48.2M [00:24<00:03, 4.09MB/s]\n",
      " 77%|███████▋  | 37.0M/48.2M [00:24<00:02, 4.39MB/s]\n",
      " 78%|███████▊  | 37.6M/48.2M [00:25<00:02, 4.57MB/s]\n",
      " 79%|███████▉  | 38.2M/48.2M [00:25<00:02, 4.76MB/s]\n",
      " 80%|████████  | 38.7M/48.2M [00:25<00:02, 4.89MB/s]\n",
      " 81%|████████▏ | 39.2M/48.2M [00:25<00:02, 4.33MB/s]\n",
      " 82%|████████▏ | 39.6M/48.2M [00:26<00:06, 1.47MB/s]\n",
      " 83%|████████▎ | 39.9M/48.2M [00:26<00:07, 1.22MB/s]\n",
      " 83%|████████▎ | 40.2M/48.2M [00:26<00:06, 1.32MB/s]\n",
      " 84%|████████▍ | 40.5M/48.2M [00:26<00:05, 1.54MB/s]\n",
      " 85%|████████▍ | 40.9M/48.2M [00:27<00:03, 1.91MB/s]\n",
      " 86%|████████▌ | 41.2M/48.2M [00:27<00:03, 2.09MB/s]\n",
      " 86%|████████▌ | 41.5M/48.2M [00:27<00:03, 2.11MB/s]\n",
      " 87%|████████▋ | 41.8M/48.2M [00:27<00:03, 2.16MB/s]\n",
      " 88%|████████▊ | 42.2M/48.2M [00:27<00:02, 2.50MB/s]\n",
      " 88%|████████▊ | 42.5M/48.2M [00:27<00:02, 2.43MB/s]\n",
      " 89%|████████▉ | 43.0M/48.2M [00:27<00:01, 2.92MB/s]\n",
      " 90%|█████████ | 43.5M/48.2M [00:27<00:01, 3.21MB/s]\n",
      " 91%|█████████ | 43.9M/48.2M [00:28<00:01, 3.27MB/s]\n",
      " 92%|█████████▏| 44.4M/48.2M [00:28<00:01, 3.45MB/s]\n",
      " 93%|█████████▎| 44.7M/48.2M [00:29<00:03, 1.02MB/s]\n",
      " 93%|█████████▎| 45.0M/48.2M [00:29<00:04, 756kB/s] \n",
      " 94%|█████████▎| 45.1M/48.2M [00:30<00:03, 837kB/s]\n",
      " 94%|█████████▍| 45.3M/48.2M [00:30<00:03, 912kB/s]\n",
      " 95%|█████████▍| 45.7M/48.2M [00:30<00:02, 1.25MB/s]\n",
      " 96%|█████████▌| 46.2M/48.2M [00:30<00:01, 1.73MB/s]\n",
      " 97%|█████████▋| 46.5M/48.2M [00:30<00:00, 2.01MB/s]\n",
      " 98%|█████████▊| 47.1M/48.2M [00:30<00:00, 2.57MB/s]\n",
      " 99%|█████████▊| 47.6M/48.2M [00:30<00:00, 2.91MB/s]\n",
      " 99%|█████████▉| 47.9M/48.2M [00:30<00:00, 2.98MB/s]\n",
      "100%|██████████| 48.2M/48.2M [00:31<00:00, 1.63MB/s]\n",
      "Traceback (most recent call last):\n",
      "  File \"C:\\Users\\ollee\\anaconda3\\envs\\dataScience\\Lib\\site-packages\\ultralytics\\engine\\trainer.py\", line 138, in __init__\n",
      "    self.data = check_det_dataset(self.args.data)\n",
      "                ^^^^^^^^^^^^^^^^^^^^^^^^^^^^^^^^^\n",
      "  File \"C:\\Users\\ollee\\anaconda3\\envs\\dataScience\\Lib\\site-packages\\ultralytics\\data\\utils.py\", line 267, in check_det_dataset\n",
      "    file = check_file(dataset)\n",
      "           ^^^^^^^^^^^^^^^^^^^\n",
      "  File \"C:\\Users\\ollee\\anaconda3\\envs\\dataScience\\Lib\\site-packages\\ultralytics\\utils\\checks.py\", line 500, in check_file\n",
      "    raise FileNotFoundError(f\"'{file}' does not exist\")\n",
      "FileNotFoundError: '(dataset.location)/data.yaml' does not exist\n",
      "\n",
      "The above exception was the direct cause of the following exception:\n",
      "\n",
      "Traceback (most recent call last):\n",
      "  File \"<frozen runpy>\", line 198, in _run_module_as_main\n",
      "  File \"<frozen runpy>\", line 88, in _run_code\n",
      "  File \"C:\\Users\\ollee\\anaconda3\\envs\\dataScience\\Scripts\\yolo.exe\\__main__.py\", line 7, in <module>\n",
      "  File \"C:\\Users\\ollee\\anaconda3\\envs\\dataScience\\Lib\\site-packages\\ultralytics\\cfg\\__init__.py\", line 582, in entrypoint\n",
      "    getattr(model, mode)(**overrides)  # default args from model\n",
      "    ^^^^^^^^^^^^^^^^^^^^^^^^^^^^^^^^^\n",
      "  File \"C:\\Users\\ollee\\anaconda3\\envs\\dataScience\\Lib\\site-packages\\ultralytics\\engine\\model.py\", line 638, in train\n",
      "    self.trainer = (trainer or self._smart_load(\"trainer\"))(overrides=args, _callbacks=self.callbacks)\n",
      "                   ^^^^^^^^^^^^^^^^^^^^^^^^^^^^^^^^^^^^^^^^^^^^^^^^^^^^^^^^^^^^^^^^^^^^^^^^^^^^^^^^^^^\n",
      "  File \"C:\\Users\\ollee\\anaconda3\\envs\\dataScience\\Lib\\site-packages\\ultralytics\\engine\\trainer.py\", line 142, in __init__\n",
      "    raise RuntimeError(emojis(f\"Dataset '{clean_url(self.args.data)}' error ❌ {e}\")) from e\n",
      "RuntimeError: Dataset '(dataset.location)/data.yaml' error  '(dataset.location)/data.yaml' does not exist\n"
     ]
    }
   ],
   "source": [
    "!yolo task=detect mode=train model=yolov5m.pt data=(dataset.location)/data.yaml epochs=100 imgsz=640"
   ]
  },
  {
   "cell_type": "code",
   "execution_count": null,
   "metadata": {},
   "outputs": [],
   "source": []
  }
 ],
 "metadata": {
  "kernelspec": {
   "display_name": "dataScience",
   "language": "python",
   "name": "python3"
  },
  "language_info": {
   "codemirror_mode": {
    "name": "ipython",
    "version": 3
   },
   "file_extension": ".py",
   "mimetype": "text/x-python",
   "name": "python",
   "nbconvert_exporter": "python",
   "pygments_lexer": "ipython3",
   "version": "undefined.undefined.undefined"
  }
 },
 "nbformat": 4,
 "nbformat_minor": 2
}
